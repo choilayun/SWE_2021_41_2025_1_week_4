{
  "nbformat": 4,
  "nbformat_minor": 0,
  "metadata": {
    "colab": {
      "provenance": [],
      "gpuType": "T4"
    },
    "kernelspec": {
      "name": "python3",
      "display_name": "Python 3"
    },
    "language_info": {
      "name": "python"
    },
    "accelerator": "GPU"
  },
  "cells": [
    {
      "cell_type": "code",
      "execution_count": 2,
      "metadata": {
        "colab": {
          "base_uri": "https://localhost:8080/"
        },
        "id": "oUbfqSYst7kY",
        "outputId": "e372eae0-2641-473c-d004-6ef811b71739"
      },
      "outputs": [
        {
          "output_type": "stream",
          "name": "stdout",
          "text": [
            "16\n",
            "False\n"
          ]
        }
      ],
      "source": [
        "def isHappy(n):\n",
        "  # Complete the isHappy() function below\n",
        "  # The function should return either True or False\n",
        "  dup = set()\n",
        "  while n != 1 and n not in dup :\n",
        "    sum = 0\n",
        "    dup.add(n)\n",
        "    for num in str(n) :\n",
        "      sum += int(num)**2\n",
        "    n = sum\n",
        "  return n == 1\n",
        "\n",
        "n = int(input())\n",
        "if isHappy(n) :\n",
        "  print(True)\n",
        "else :\n",
        "  print(False)"
      ]
    }
  ]
}